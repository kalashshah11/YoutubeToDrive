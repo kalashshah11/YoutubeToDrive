{
  "nbformat": 4,
  "nbformat_minor": 0,
  "metadata": {
    "colab": {
      "name": "YTtoDrive.ipynb",
      "provenance": [],
      "collapsed_sections": [],
      "include_colab_link": true
    },
    "kernelspec": {
      "display_name": "Python 3",
      "name": "python3"
    },
    "widgets": {
      "application/vnd.jupyter.widget-state+json": {
        "a3bf750a4c3f44968001c9a1bfb52399": {
          "model_module": "@jupyter-widgets/controls",
          "model_name": "FloatSliderModel",
          "state": {
            "_view_name": "FloatSliderView",
            "style": "IPY_MODEL_e46e9f58c48c41049aac8526c52c69f3",
            "_dom_classes": [],
            "description": "",
            "step": 0.01,
            "_model_name": "FloatSliderModel",
            "orientation": "horizontal",
            "max": 100,
            "_view_module": "@jupyter-widgets/controls",
            "_model_module_version": "1.5.0",
            "value": 0,
            "_view_count": null,
            "disabled": true,
            "_view_module_version": "1.5.0",
            "min": 0,
            "continuous_update": true,
            "readout_format": ".2f",
            "description_tooltip": null,
            "readout": true,
            "_model_module": "@jupyter-widgets/controls",
            "layout": "IPY_MODEL_3a5cc892d09b4432921d5e6d32df9a8e"
          }
        },
        "e46e9f58c48c41049aac8526c52c69f3": {
          "model_module": "@jupyter-widgets/controls",
          "model_name": "SliderStyleModel",
          "state": {
            "_view_name": "StyleView",
            "handle_color": null,
            "_model_name": "SliderStyleModel",
            "description_width": "initial",
            "_view_module": "@jupyter-widgets/base",
            "_model_module_version": "1.5.0",
            "_view_count": null,
            "_view_module_version": "1.2.0",
            "_model_module": "@jupyter-widgets/controls"
          }
        },
        "3a5cc892d09b4432921d5e6d32df9a8e": {
          "model_module": "@jupyter-widgets/base",
          "model_name": "LayoutModel",
          "state": {
            "_view_name": "LayoutView",
            "grid_template_rows": null,
            "right": null,
            "justify_content": null,
            "_view_module": "@jupyter-widgets/base",
            "overflow": null,
            "_model_module_version": "1.2.0",
            "_view_count": null,
            "flex_flow": null,
            "width": "auto",
            "min_width": null,
            "border": null,
            "align_items": null,
            "bottom": null,
            "_model_module": "@jupyter-widgets/base",
            "top": null,
            "grid_column": null,
            "overflow_y": null,
            "overflow_x": null,
            "grid_auto_flow": null,
            "grid_area": null,
            "grid_template_columns": null,
            "flex": null,
            "_model_name": "LayoutModel",
            "justify_items": null,
            "grid_row": null,
            "max_height": null,
            "align_content": null,
            "visibility": null,
            "align_self": null,
            "height": null,
            "min_height": null,
            "padding": null,
            "grid_auto_rows": null,
            "grid_gap": null,
            "max_width": null,
            "order": null,
            "_view_module_version": "1.2.0",
            "grid_template_areas": null,
            "object_position": null,
            "object_fit": null,
            "grid_auto_columns": null,
            "margin": null,
            "display": null,
            "left": null
          }
        }
      }
    }
  },
  "cells": [
    {
      "cell_type": "markdown",
      "metadata": {
        "id": "view-in-github",
        "colab_type": "text"
      },
      "source": [
        "<a href=\"https://colab.research.google.com/github/kalashshah11/YoutubeToDrive/blob/main/YTtoDrive.ipynb\" target=\"_parent\"><img src=\"https://colab.research.google.com/assets/colab-badge.svg\" alt=\"Open In Colab\"/></a>"
      ]
    },
    {
      "cell_type": "code",
      "metadata": {
        "id": "DSRsPd-gMwNS",
        "colab": {
          "base_uri": "https://localhost:8080/"
        },
        "outputId": "597b643a-1db1-4364-e341-db8478584a4f"
      },
      "source": [
        "!pip install pytube\r\n",
        " \r\n",
        "from pytube import YouTube\r\n",
        " \r\n",
        "downloads = []"
      ],
      "execution_count": 1,
      "outputs": [
        {
          "output_type": "stream",
          "text": [
            "Collecting pytube\n",
            "\u001b[?25l  Downloading https://files.pythonhosted.org/packages/63/2d/5b64e61f34d193b718aa39d322eddd7a17a3cc07f56a4b27b107ea234c02/pytube-10.0.0-py3-none-any.whl (40kB)\n",
            "\r\u001b[K     |████████                        | 10kB 18.2MB/s eta 0:00:01\r\u001b[K     |████████████████                | 20kB 24.0MB/s eta 0:00:01\r\u001b[K     |████████████████████████        | 30kB 10.8MB/s eta 0:00:01\r\u001b[K     |████████████████████████████████| 40kB 3.0MB/s \n",
            "\u001b[?25hRequirement already satisfied: typing-extensions in /usr/local/lib/python3.6/dist-packages (from pytube) (3.7.4.3)\n",
            "Installing collected packages: pytube\n",
            "Successfully installed pytube-10.0.0\n"
          ],
          "name": "stdout"
        }
      ]
    },
    {
      "cell_type": "code",
      "metadata": {
        "id": "bwCZsX1aNRN-"
      },
      "source": [
        "from google.colab import drive\r\n",
        " \r\n",
        "# drive.mount(\"/content/drive\")\r\n",
        "# https://www.youtube.com/watch?v=_uQrJ0TkZlc\r\n",
        "drive.flush_and_unmount()"
      ],
      "execution_count": 13,
      "outputs": []
    },
    {
      "cell_type": "code",
      "metadata": {
        "id": "f_5oFRieNVb2"
      },
      "source": [
        "SAVE_PATH_ORIG = \"/content/drive/My Drive/Competitive\"\r\n",
        "SAVE_PATH = '/content/Demo'\r\n",
        "\r\n",
        "while True:\r\n",
        "    magnet_link = input(\"Enter Link Or Type Exit: \")\r\n",
        "    if magnet_link.lower() == \"exit\":\r\n",
        "        break\r\n",
        "    downloads.append(\r\n",
        "        magnet_link\r\n",
        "    )"
      ],
      "execution_count": null,
      "outputs": []
    },
    {
      "cell_type": "code",
      "metadata": {
        "id": "HkWE5Ojzz7mO"
      },
      "source": [
        "!pip install ipywidgets "
      ],
      "execution_count": null,
      "outputs": []
    },
    {
      "cell_type": "code",
      "metadata": {
        "id": "bRU1iHickdV1",
        "colab": {
          "base_uri": "https://localhost:8080/",
          "height": 34,
          "referenced_widgets": [
            "a3bf750a4c3f44968001c9a1bfb52399",
            "e46e9f58c48c41049aac8526c52c69f3",
            "3a5cc892d09b4432921d5e6d32df9a8e"
          ]
        },
        "outputId": "ee594a92-7826-45c5-e3fd-94bd37530499"
      },
      "source": [
        "#@title Youtube Downloader\n",
        "from pytube import YouTube\n",
        "from datetime import datetime\n",
        "from IPython.display import display\n",
        "import ipywidgets as widgets\n",
        "from google.colab import drive\n",
        " \n",
        "class Size:\n",
        "  def __init__(self, value):\n",
        "    self.value = value\n",
        "\n",
        "  def Update(self, value):\n",
        "    self.value = value\n",
        "  \n",
        "  def RoundVal(self):\n",
        "    val = self.value\n",
        "    while val > 1024:\n",
        "      val = val / 1024\n",
        "\n",
        "    return round(val, 3)\n",
        "\n",
        "  def Bytes(self):\n",
        "    return self.value\n",
        "\n",
        "  def Unit(self):\n",
        "    val = self.value\n",
        "    count = 0\n",
        "    while val > 1024 and count < 3:\n",
        "      val = val / 1024\n",
        "      count = count + 1\n",
        "\n",
        "    if count == 0:\n",
        "      return \"bytes\"\n",
        "    elif count == 1:\n",
        "      return \"KB\"\n",
        "    elif count == 2:\n",
        "      return \"MB\"\n",
        "    return \"GB\"\n",
        "\n",
        "class YoutubeDownloader:\n",
        "  def Login(self):\n",
        "    drive.mount(\"/content/drive\")\n",
        "\n",
        "  def __init__(self, download_link, save_path, time_delay):\n",
        "    self.link = download_link\n",
        "    self.path = save_path\n",
        "    self.slider = widgets.FloatSlider(\n",
        "        step=0.01, disabled=True, layout=layout, style=style\n",
        "    )\n",
        "    display(self.slider)\n",
        "    self.downloaded = Size(0)\n",
        "    self.total = Size(0)\n",
        "    self.delay = time_delay\n",
        "    self.Login()\n",
        "     \n",
        "  def Start(self):\n",
        "    yt = YouTube(self.link, on_progress_callback = self.__ProgressCallback)\n",
        "    mp4stream = yt.streams.get_by_resolution('720p')\n",
        "    \n",
        "    self.total.Update(mp4stream.filesize)\n",
        "    self.name = mp4stream.default_filename\n",
        "    self.time = datetime.now()\n",
        "    mp4stream.download(self.path)\n",
        "    self.slider.close()\n",
        "\n",
        "  def Print(self):\n",
        "    # print(\"{0} {1}/{2} {3} : {4}\".format(self.downloaded.RoundVal(),\n",
        "    #                                      self.downloaded.Unit(), \n",
        "    #                                      self.total.RoundVal(), \n",
        "    #                                      self.total.Unit(),\n",
        "    #                                      self.name))\n",
        "    self.slider.description = \" \".join(\n",
        "                [self.name]\n",
        "            )\n",
        "    self.slider.value = self.downloaded.Bytes()/self.total.Bytes() * 100\n",
        "\n",
        "  def __ProgressCallback(self, stream, chunks, remain):\n",
        "    self.downloaded.Update(self.total.Bytes() - remain)\n",
        "    if (datetime.now() - self.time).total_seconds() > self.delay:\n",
        "      self.time = datetime.now()\n",
        "      self.Print()\n",
        "\n",
        "  def Logout(self):\n",
        "    drive.flush_and_unmount()\n",
        "\n",
        "Link = 'https://www.youtube.com/watch?v=_uQrJ0TkZlc' #@param {type:\"string\"}\n",
        "SaveLocation = '/content/drive/My Drive/Competitive' #@param {type:\"string\"}\n",
        "TimeDelayForOutput = \"0.125\" #@param {type:\"string\"}\n",
        "layout = widgets.Layout(width=\"auto\")\n",
        "style = {\"description_width\": \"initial\"}\n",
        "ytd = YoutubeDownloader(Link, SaveLocation, float(TimeDelayForOutput))\n",
        "ytd.Start()\n",
        "ytd.Logout()"
      ],
      "execution_count": 16,
      "outputs": [
        {
          "output_type": "display_data",
          "data": {
            "application/vnd.jupyter.widget-view+json": {
              "model_id": "a3bf750a4c3f44968001c9a1bfb52399",
              "version_minor": 0,
              "version_major": 2
            },
            "text/plain": [
              "FloatSlider(value=0.0, disabled=True, layout=Layout(width='auto'), step=0.01, style=SliderStyle(description_wi…"
            ]
          },
          "metadata": {
            "tags": []
          }
        },
        {
          "output_type": "stream",
          "text": [
            "Drive already mounted at /content/drive; to attempt to forcibly remount, call drive.mount(\"/content/drive\", force_remount=True).\n"
          ],
          "name": "stdout"
        }
      ]
    }
  ]
}